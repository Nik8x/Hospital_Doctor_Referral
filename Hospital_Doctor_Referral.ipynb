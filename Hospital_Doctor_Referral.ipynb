{
  "nbformat": 4,
  "nbformat_minor": 0,
  "metadata": {
    "colab": {
      "name": "Hospital_Doctor_Referral.ipynb",
      "version": "0.3.2",
      "provenance": [],
      "collapsed_sections": [],
      "include_colab_link": true
    },
    "kernelspec": {
      "display_name": "Python 3",
      "language": "python",
      "name": "python3"
    }
  },
  "cells": [
    {
      "cell_type": "markdown",
      "metadata": {
        "id": "view-in-github",
        "colab_type": "text"
      },
      "source": [
        "<a href=\"https://colab.research.google.com/github/Nik8x/Hospital_Doctor_Referral/blob/master/Hospital_Doctor_Referral.ipynb\" target=\"_parent\"><img src=\"https://colab.research.google.com/assets/colab-badge.svg\" alt=\"Open In Colab\"/></a>"
      ]
    },
    {
      "metadata": {
        "colab_type": "code",
        "id": "6Mou9J-UF50S",
        "colab": {}
      },
      "cell_type": "code",
      "source": [
        "import warnings\n",
        "warnings.filterwarnings(\"ignore\")\n",
        "import numpy as np\n",
        "import pandas as pd\n",
        "import time\n",
        "import os\n",
        "import re\n",
        "\n",
        "from tqdm import  tqdm_notebook as tqdm\n",
        "\n",
        "# General Mathematics package\n",
        "import math as math\n",
        "\n",
        "# Graphing Packages\n",
        "import matplotlib.pyplot as plt\n",
        "%matplotlib inline\n",
        "import seaborn as sns\n",
        "plt.style.use(\"ggplot\")\n",
        "\n",
        "# Statistics Packages\n",
        "from scipy.stats import randint, skew\n",
        "\n",
        "# Machine Learning Packages\n",
        "# !pip install xgboost # if xgboost is not installed\n",
        "import xgboost\n",
        "# !pip install sklearn # if sklearn is not installed\n",
        "from sklearn import preprocessing\n",
        "from sklearn.linear_model import LogisticRegression\n",
        "from sklearn.model_selection import train_test_split, GridSearchCV, RandomizedSearchCV\n",
        "from sklearn.metrics import confusion_matrix, classification_report, accuracy_score, roc_auc_score\n",
        "from sklearn.neighbors import KNeighborsClassifier\n",
        "from sklearn.tree import DecisionTreeClassifier\n",
        "from sklearn.svm import SVC\n",
        "from sklearn.pipeline import Pipeline\n",
        "from sklearn.preprocessing import StandardScaler\n",
        "from sklearn.utils import resample"
      ],
      "execution_count": 0,
      "outputs": []
    },
    {
      "metadata": {
        "colab_type": "code",
        "id": "22MSTO53GEnI",
        "outputId": "7a88714e-0a19-4904-fbb3-76101fff2fa7",
        "colab": {
          "base_uri": "https://localhost:8080/",
          "height": 195
        }
      },
      "cell_type": "code",
      "source": [
        "df_original = pd.read_csv(\"Test_Data_Set_For_Data_Science_0319.csv\")\n",
        "df = df_original.copy() #make copy of the dataframe so we can mess around with one without affecting the other\n",
        "df.head()"
      ],
      "execution_count": 0,
      "outputs": [
        {
          "output_type": "execute_result",
          "data": {
            "text/html": [
              "<div>\n",
              "<style scoped>\n",
              "    .dataframe tbody tr th:only-of-type {\n",
              "        vertical-align: middle;\n",
              "    }\n",
              "\n",
              "    .dataframe tbody tr th {\n",
              "        vertical-align: top;\n",
              "    }\n",
              "\n",
              "    .dataframe thead th {\n",
              "        text-align: right;\n",
              "    }\n",
              "</style>\n",
              "<table border=\"1\" class=\"dataframe\">\n",
              "  <thead>\n",
              "    <tr style=\"text-align: right;\">\n",
              "      <th></th>\n",
              "      <th>DATE_SEQ</th>\n",
              "      <th>id</th>\n",
              "      <th>tier</th>\n",
              "      <th>claim_type</th>\n",
              "      <th>npi_temp</th>\n",
              "    </tr>\n",
              "  </thead>\n",
              "  <tbody>\n",
              "    <tr>\n",
              "      <th>0</th>\n",
              "      <td>1</td>\n",
              "      <td>219286890</td>\n",
              "      <td>Preferred</td>\n",
              "      <td>Facility</td>\n",
              "      <td>Y3260K6K67</td>\n",
              "    </tr>\n",
              "    <tr>\n",
              "      <th>1</th>\n",
              "      <td>2</td>\n",
              "      <td>219286890</td>\n",
              "      <td>Preferred</td>\n",
              "      <td>Professional</td>\n",
              "      <td>Y336Y6YY32</td>\n",
              "    </tr>\n",
              "    <tr>\n",
              "      <th>2</th>\n",
              "      <td>3</td>\n",
              "      <td>219461214</td>\n",
              "      <td>Preferred</td>\n",
              "      <td>Facility</td>\n",
              "      <td>Y578526695</td>\n",
              "    </tr>\n",
              "    <tr>\n",
              "      <th>3</th>\n",
              "      <td>4</td>\n",
              "      <td>219461214</td>\n",
              "      <td>Preferred</td>\n",
              "      <td>Professional</td>\n",
              "      <td>YK57369753</td>\n",
              "    </tr>\n",
              "    <tr>\n",
              "      <th>4</th>\n",
              "      <td>5</td>\n",
              "      <td>220660239</td>\n",
              "      <td>Preferred</td>\n",
              "      <td>Professional</td>\n",
              "      <td>Y235Y39585</td>\n",
              "    </tr>\n",
              "  </tbody>\n",
              "</table>\n",
              "</div>"
            ],
            "text/plain": [
              "   DATE_SEQ         id       tier    claim_type    npi_temp\n",
              "0         1  219286890  Preferred      Facility  Y3260K6K67\n",
              "1         2  219286890  Preferred  Professional  Y336Y6YY32\n",
              "2         3  219461214  Preferred      Facility  Y578526695\n",
              "3         4  219461214  Preferred  Professional  YK57369753\n",
              "4         5  220660239  Preferred  Professional  Y235Y39585"
            ]
          },
          "metadata": {
            "tags": []
          },
          "execution_count": 2
        }
      ]
    },
    {
      "metadata": {
        "colab_type": "code",
        "id": "AkA-uB9EJRac",
        "outputId": "2d11ffa7-c584-4c8a-ad68-98c00a7bd1d8",
        "colab": {
          "base_uri": "https://localhost:8080/",
          "height": 34
        }
      },
      "cell_type": "code",
      "source": [
        "print('There are', df.shape[0], 'and', df.shape[1], 'columns')"
      ],
      "execution_count": 0,
      "outputs": [
        {
          "output_type": "stream",
          "text": [
            "There are 975133 and 5 columns\n"
          ],
          "name": "stdout"
        }
      ]
    },
    {
      "metadata": {
        "colab_type": "code",
        "id": "zn8syPPz3HsZ",
        "outputId": "92ab4377-bcc4-4846-945c-69bef1d6ce6b",
        "colab": {
          "base_uri": "https://localhost:8080/",
          "height": 67
        }
      },
      "cell_type": "code",
      "source": [
        "print(df.tier.value_counts())\n",
        "print('\\n% of Non-Preferred rows in our dataframe is:', df.tier.value_counts()[1]/df.shape[0]*100, '%.')"
      ],
      "execution_count": 0,
      "outputs": [
        {
          "output_type": "stream",
          "text": [
            "Preferred        941419\n",
            "Non-Preferred     33714\n",
            "Name: tier, dtype: int64\n",
            "\n",
            "% of Non-Preferred rows in our dataframe is: 3.4573745324996694 %.\n"
          ],
          "name": "stdout"
        }
      ]
    },
    {
      "metadata": {
        "colab_type": "code",
        "id": "H09grCRN3J89",
        "outputId": "ac41da49-49f0-42a7-b224-57fb57aa624f",
        "colab": {
          "base_uri": "https://localhost:8080/",
          "height": 67
        }
      },
      "cell_type": "code",
      "source": [
        "plt.figure(figsize = (14, 6))\n",
        "\n",
        "plt.subplot(121)\n",
        "df.claim_type.value_counts().plot(kind = 'bar')\n",
        "plt.ylabel('Count')\n",
        "plt.xlabel('Claim Type')\n",
        "plt.title('Claim Type - Professional vs Facility')\n",
        "\n",
        "plt.subplot(122)\n",
        "df.tier.value_counts().plot(kind = 'bar')\n",
        "plt.xlabel('Tier')\n",
        "plt.title('Tier - Preferred vs Non-Preferred')\n",
        "plt.show()"
      ],
      "execution_count": 0,
      "outputs": [
        {
          "output_type": "display_data",
          "data": {
            "image/png": "[encoded data removed]",
            "text/plain": [
              "<matplotlib.figure.Figure at 0x1e7227fcd68>"
            ]
          },
          "metadata": {
            "tags": []
          }
        }
      ]
    },
    {
      "metadata": {
        "colab_type": "code",
        "id": "iXX0q6wItmMr",
        "outputId": "d181f7dc-dd05-444b-e8e1-ecdfafe550c2",
        "colab": {
          "base_uri": "https://localhost:8080/",
          "height": 34
        }
      },
      "cell_type": "code",
      "source": [
        "print('Number of unique values in npi_temp is', df.npi_temp.nunique())\n",
        "print('Number of unique values in id is', df.id.nunique())\n",
        "print('Number of unique values in Date_sequence is', df.DATE_SEQ.nunique())"
      ],
      "execution_count": 0,
      "outputs": [
        {
          "output_type": "stream",
          "text": [
            "Number of unique values in npi_temp is 70166\n",
            "Number of unique values in id is 136592\n",
            "Number of unique values in Date_sequence is 975133\n"
          ],
          "name": "stdout"
        }
      ]
    },
    {
      "metadata": {
        "colab_type": "code",
        "id": "T0XVwu5ckO-5",
        "colab": {}
      },
      "cell_type": "code",
      "source": [
        "# We are trying to find out which doctors are likely to send their members to hospitals which are in tier - non-preferred"
      ],
      "execution_count": 0,
      "outputs": []
    },
    {
      "metadata": {
        "colab_type": "code",
        "id": "1Cl5ptsiktw0",
        "colab": {}
      },
      "cell_type": "code",
      "source": [
        "# the values of npi_id and id are important, however they are not unique\n",
        "# we can replace the id and date_seq column with a column representing the number of times particular member has visited for that npi_id\n",
        "\n",
        "# same we will replace npi_id with the number of times particular medical provider is mentioned\n",
        "# so we will create a loop that will go through the data frame and find out these values\n",
        "# this will take some time depending on machines"
      ],
      "execution_count": 0,
      "outputs": []
    },
    {
      "metadata": {
        "colab_type": "code",
        "id": "qjkxEkTRGvsi",
        "colab": {}
      },
      "cell_type": "code",
      "source": [
        "%%time\n",
        "count = [len(re.findall(str(j), str(df.id[0: i]))) + 1 for i, j in enumerate(tqdm(df.id))] # extracting the number of visits for particular id for paticular date"
      ],
      "execution_count": 0,
      "outputs": []
    },
    {
      "metadata": {
        "colab_type": "code",
        "id": "KhWFYP3bjtXn",
        "colab": {}
      },
      "cell_type": "code",
      "source": [
        "%%time\n",
        "count_npi = [len(re.findall(str(j), str(df.npi_temp[0: i]))) + 1 for i, j in enumerate(tqdm(df.npi_temp))] # extracting the number of visits for particular id for paticular date"
      ],
      "execution_count": 0,
      "outputs": []
    },
    {
      "metadata": {
        "colab_type": "code",
        "id": "zUPyu12vj1GI",
        "colab": {}
      },
      "cell_type": "code",
      "source": [
        "with open(\"count.txt\", \"w\") as output:\n",
        "     output.write(str(count))  # storing the list  as a local copy for future use"
      ],
      "execution_count": 0,
      "outputs": []
    },
    {
      "metadata": {
        "colab_type": "code",
        "id": "15uiQK3Rkujw",
        "colab": {}
      },
      "cell_type": "code",
      "source": [
        "with open(\"count_npi.txt\", \"w\") as output:\n",
        "     output.write(str(count_npi))  # storing the list  as a local copy for future use"
      ],
      "execution_count": 0,
      "outputs": []
    },
    {
      "metadata": {
        "colab_type": "code",
        "id": "Ic1MbomJk5OC",
        "colab": {}
      },
      "cell_type": "code",
      "source": [
        "count_npi = open('count_npi.txt').read()[1:-1].split(', ') # loading a local copy\n",
        "df['count_npi'] = count_npi"
      ],
      "execution_count": 0,
      "outputs": []
    },
    {
      "metadata": {
        "colab_type": "code",
        "id": "WPn7ilQabAWu",
        "colab": {}
      },
      "cell_type": "code",
      "source": [
        "count = open('count.txt').read()[1:-1].split(', ') # loading a local copy\n",
        "df['count'] = count"
      ],
      "execution_count": 0,
      "outputs": []
    },
    {
      "metadata": {
        "colab_type": "code",
        "id": "jatFagOFE-cT",
        "outputId": "9bf32701-6b46-442b-b5a4-9ff1ca069675",
        "colab": {
          "base_uri": "https://localhost:8080/",
          "height": 34
        }
      },
      "cell_type": "code",
      "source": [
        "print('The length of both count:', len(count), 'and count_npi:', len(count_npi), 'are the same as the length of the data frame')"
      ],
      "execution_count": 0,
      "outputs": [
        {
          "output_type": "stream",
          "text": [
            "The length of both count: 975133 and count_npi: 975133 are the same as the length of the data frame\n"
          ],
          "name": "stdout"
        }
      ]
    },
    {
      "metadata": {
        "id": "tD7bskxw8n8M",
        "colab_type": "code",
        "colab": {},
        "outputId": "4355b3ca-f01b-4c75-d483-8325684e87b6"
      },
      "cell_type": "code",
      "source": [
        "pd.crosstab(df.tier, pd.to_numeric(df['count'])).T"
      ],
      "execution_count": 0,
      "outputs": [
        {
          "output_type": "execute_result",
          "data": {
            "text/html": [
              "<div>\n",
              "<style scoped>\n",
              "    .dataframe tbody tr th:only-of-type {\n",
              "        vertical-align: middle;\n",
              "    }\n",
              "\n",
              "    .dataframe tbody tr th {\n",
              "        vertical-align: top;\n",
              "    }\n",
              "\n",
              "    .dataframe thead th {\n",
              "        text-align: right;\n",
              "    }\n",
              "</style>\n",
              "<table border=\"1\" class=\"dataframe\">\n",
              "  <thead>\n",
              "    <tr style=\"text-align: right;\">\n",
              "      <th>tier</th>\n",
              "      <th>Non-Preferred</th>\n",
              "      <th>Preferred</th>\n",
              "    </tr>\n",
              "    <tr>\n",
              "      <th>count</th>\n",
              "      <th></th>\n",
              "      <th></th>\n",
              "    </tr>\n",
              "  </thead>\n",
              "  <tbody>\n",
              "    <tr>\n",
              "      <th>1</th>\n",
              "      <td>14260</td>\n",
              "      <td>679545</td>\n",
              "    </tr>\n",
              "    <tr>\n",
              "      <th>2</th>\n",
              "      <td>11161</td>\n",
              "      <td>162507</td>\n",
              "    </tr>\n",
              "    <tr>\n",
              "      <th>3</th>\n",
              "      <td>4714</td>\n",
              "      <td>56925</td>\n",
              "    </tr>\n",
              "    <tr>\n",
              "      <th>4</th>\n",
              "      <td>1996</td>\n",
              "      <td>23387</td>\n",
              "    </tr>\n",
              "    <tr>\n",
              "      <th>5</th>\n",
              "      <td>840</td>\n",
              "      <td>9479</td>\n",
              "    </tr>\n",
              "    <tr>\n",
              "      <th>6</th>\n",
              "      <td>392</td>\n",
              "      <td>4324</td>\n",
              "    </tr>\n",
              "    <tr>\n",
              "      <th>7</th>\n",
              "      <td>174</td>\n",
              "      <td>2221</td>\n",
              "    </tr>\n",
              "    <tr>\n",
              "      <th>8</th>\n",
              "      <td>79</td>\n",
              "      <td>1222</td>\n",
              "    </tr>\n",
              "    <tr>\n",
              "      <th>9</th>\n",
              "      <td>45</td>\n",
              "      <td>674</td>\n",
              "    </tr>\n",
              "    <tr>\n",
              "      <th>10</th>\n",
              "      <td>26</td>\n",
              "      <td>404</td>\n",
              "    </tr>\n",
              "    <tr>\n",
              "      <th>11</th>\n",
              "      <td>10</td>\n",
              "      <td>248</td>\n",
              "    </tr>\n",
              "    <tr>\n",
              "      <th>12</th>\n",
              "      <td>4</td>\n",
              "      <td>160</td>\n",
              "    </tr>\n",
              "    <tr>\n",
              "      <th>13</th>\n",
              "      <td>4</td>\n",
              "      <td>98</td>\n",
              "    </tr>\n",
              "    <tr>\n",
              "      <th>14</th>\n",
              "      <td>3</td>\n",
              "      <td>62</td>\n",
              "    </tr>\n",
              "    <tr>\n",
              "      <th>15</th>\n",
              "      <td>4</td>\n",
              "      <td>35</td>\n",
              "    </tr>\n",
              "    <tr>\n",
              "      <th>16</th>\n",
              "      <td>1</td>\n",
              "      <td>20</td>\n",
              "    </tr>\n",
              "    <tr>\n",
              "      <th>17</th>\n",
              "      <td>1</td>\n",
              "      <td>16</td>\n",
              "    </tr>\n",
              "    <tr>\n",
              "      <th>18</th>\n",
              "      <td>0</td>\n",
              "      <td>12</td>\n",
              "    </tr>\n",
              "    <tr>\n",
              "      <th>19</th>\n",
              "      <td>0</td>\n",
              "      <td>10</td>\n",
              "    </tr>\n",
              "    <tr>\n",
              "      <th>20</th>\n",
              "      <td>0</td>\n",
              "      <td>9</td>\n",
              "    </tr>\n",
              "    <tr>\n",
              "      <th>21</th>\n",
              "      <td>0</td>\n",
              "      <td>9</td>\n",
              "    </tr>\n",
              "    <tr>\n",
              "      <th>22</th>\n",
              "      <td>0</td>\n",
              "      <td>7</td>\n",
              "    </tr>\n",
              "    <tr>\n",
              "      <th>23</th>\n",
              "      <td>0</td>\n",
              "      <td>6</td>\n",
              "    </tr>\n",
              "    <tr>\n",
              "      <th>24</th>\n",
              "      <td>0</td>\n",
              "      <td>6</td>\n",
              "    </tr>\n",
              "    <tr>\n",
              "      <th>25</th>\n",
              "      <td>0</td>\n",
              "      <td>5</td>\n",
              "    </tr>\n",
              "    <tr>\n",
              "      <th>26</th>\n",
              "      <td>0</td>\n",
              "      <td>5</td>\n",
              "    </tr>\n",
              "    <tr>\n",
              "      <th>27</th>\n",
              "      <td>0</td>\n",
              "      <td>3</td>\n",
              "    </tr>\n",
              "    <tr>\n",
              "      <th>28</th>\n",
              "      <td>0</td>\n",
              "      <td>2</td>\n",
              "    </tr>\n",
              "    <tr>\n",
              "      <th>29</th>\n",
              "      <td>0</td>\n",
              "      <td>2</td>\n",
              "    </tr>\n",
              "    <tr>\n",
              "      <th>30</th>\n",
              "      <td>0</td>\n",
              "      <td>1</td>\n",
              "    </tr>\n",
              "    <tr>\n",
              "      <th>31</th>\n",
              "      <td>0</td>\n",
              "      <td>15</td>\n",
              "    </tr>\n",
              "  </tbody>\n",
              "</table>\n",
              "</div>"
            ],
            "text/plain": [
              "tier   Non-Preferred  Preferred\n",
              "count                          \n",
              "1              14260     679545\n",
              "2              11161     162507\n",
              "3               4714      56925\n",
              "4               1996      23387\n",
              "5                840       9479\n",
              "6                392       4324\n",
              "7                174       2221\n",
              "8                 79       1222\n",
              "9                 45        674\n",
              "10                26        404\n",
              "11                10        248\n",
              "12                 4        160\n",
              "13                 4         98\n",
              "14                 3         62\n",
              "15                 4         35\n",
              "16                 1         20\n",
              "17                 1         16\n",
              "18                 0         12\n",
              "19                 0         10\n",
              "20                 0          9\n",
              "21                 0          9\n",
              "22                 0          7\n",
              "23                 0          6\n",
              "24                 0          6\n",
              "25                 0          5\n",
              "26                 0          5\n",
              "27                 0          3\n",
              "28                 0          2\n",
              "29                 0          2\n",
              "30                 0          1\n",
              "31                 0         15"
            ]
          },
          "metadata": {
            "tags": []
          },
          "execution_count": 11
        }
      ]
    },
    {
      "metadata": {
        "colab_type": "code",
        "id": "4AR6DKNxktxM",
        "colab": {}
      },
      "cell_type": "code",
      "source": [
        "# From here we can see that how many times a patient visited (count) and was non-preferred and preferred\n",
        "\n",
        "# for example, there were 840 people that visited a total of 5 times who ended up being non-preferred\n",
        "# and, there were 9479 people that visited a total of 5 times who ended up being preferred\n",
        "\n",
        "# More frequent visits leads the member to be Preferred \n",
        "# while less vists can be Non-Preferred Tier too"
      ],
      "execution_count": 0,
      "outputs": []
    },
    {
      "metadata": {
        "colab_type": "code",
        "id": "qTaKfhCWd5_J",
        "outputId": "af166536-e2c4-4531-f1c1-4d3325d24443",
        "scrolled": false,
        "colab": {
          "base_uri": "https://localhost:8080/",
          "height": 580
        }
      },
      "cell_type": "code",
      "source": [
        "np.log(pd.crosstab(df.tier, pd.to_numeric(df['count']))).T.plot(kind = 'bar', figsize = (20, 7))\n",
        "plt.ylabel('Log of Occurences of particular value')\n",
        "plt.xlabel('Unique values in column Count')\n",
        "plt.title('Relationship between member visits and Preferred vs Non-Preferred tier')\n",
        "plt.show()"
      ],
      "execution_count": 0,
      "outputs": [
        {
          "output_type": "display_data",
          "data": {
            "image/png": "[encoded data removed]",
            "text/plain": [
              "<matplotlib.figure.Figure at 0x1e722c11cc0>"
            ]
          },
          "metadata": {
            "tags": []
          }
        }
      ]
    },
    {
      "metadata": {
        "colab_type": "code",
        "id": "ayMvXs_nuXCJ",
        "colab": {},
        "outputId": "f568774d-95e5-4b52-cd8f-8ea0478ce073"
      },
      "cell_type": "code",
      "source": [
        "# drop unnecessary column DATE_SEQ\n",
        "df_1 = df.copy()\n",
        "df_1.drop(['DATE_SEQ', 'id' , \"npi_temp\"], axis = 1, inplace = True)\n",
        "\n",
        "# We retained the properties of the columns \"Date_Seq\", \"id\" and \"npi_temp\", so we can finally drop the columns \n",
        "# which can help  creating an exceptional model.\n",
        "\n",
        "df_1.head()\n",
        "# count is the number of times the patient was seen\n",
        "# count_npi is the number of times that particular medical provider saw the patient"
      ],
      "execution_count": 0,
      "outputs": [
        {
          "output_type": "execute_result",
          "data": {
            "text/html": [
              "<div>\n",
              "<style scoped>\n",
              "    .dataframe tbody tr th:only-of-type {\n",
              "        vertical-align: middle;\n",
              "    }\n",
              "\n",
              "    .dataframe tbody tr th {\n",
              "        vertical-align: top;\n",
              "    }\n",
              "\n",
              "    .dataframe thead th {\n",
              "        text-align: right;\n",
              "    }\n",
              "</style>\n",
              "<table border=\"1\" class=\"dataframe\">\n",
              "  <thead>\n",
              "    <tr style=\"text-align: right;\">\n",
              "      <th></th>\n",
              "      <th>tier</th>\n",
              "      <th>claim_type</th>\n",
              "      <th>count_npi</th>\n",
              "      <th>count</th>\n",
              "    </tr>\n",
              "  </thead>\n",
              "  <tbody>\n",
              "    <tr>\n",
              "      <th>0</th>\n",
              "      <td>Preferred</td>\n",
              "      <td>Facility</td>\n",
              "      <td>1</td>\n",
              "      <td>1</td>\n",
              "    </tr>\n",
              "    <tr>\n",
              "      <th>1</th>\n",
              "      <td>Preferred</td>\n",
              "      <td>Professional</td>\n",
              "      <td>1</td>\n",
              "      <td>2</td>\n",
              "    </tr>\n",
              "    <tr>\n",
              "      <th>2</th>\n",
              "      <td>Preferred</td>\n",
              "      <td>Facility</td>\n",
              "      <td>1</td>\n",
              "      <td>1</td>\n",
              "    </tr>\n",
              "    <tr>\n",
              "      <th>3</th>\n",
              "      <td>Preferred</td>\n",
              "      <td>Professional</td>\n",
              "      <td>1</td>\n",
              "      <td>2</td>\n",
              "    </tr>\n",
              "    <tr>\n",
              "      <th>4</th>\n",
              "      <td>Preferred</td>\n",
              "      <td>Professional</td>\n",
              "      <td>1</td>\n",
              "      <td>1</td>\n",
              "    </tr>\n",
              "  </tbody>\n",
              "</table>\n",
              "</div>"
            ],
            "text/plain": [
              "        tier    claim_type count_npi count\n",
              "0  Preferred      Facility         1     1\n",
              "1  Preferred  Professional         1     2\n",
              "2  Preferred      Facility         1     1\n",
              "3  Preferred  Professional         1     2\n",
              "4  Preferred  Professional         1     1"
            ]
          },
          "metadata": {
            "tags": []
          },
          "execution_count": 14
        }
      ]
    },
    {
      "metadata": {
        "colab_type": "code",
        "id": "6IIAGPUkUYVl",
        "colab": {}
      },
      "cell_type": "code",
      "source": [
        "le = preprocessing.LabelEncoder() # to encode our categorical columns into 0 and 1\n",
        "le_tier = preprocessing.LabelEncoder()"
      ],
      "execution_count": 0,
      "outputs": []
    },
    {
      "metadata": {
        "colab_type": "code",
        "id": "lyiEy9myUc2t",
        "colab": {}
      },
      "cell_type": "code",
      "source": [
        "df_1.tier = le_tier.fit_transform(df_1.tier)\n",
        "\n",
        "df_1.claim_type = le.fit_transform(df_1.claim_type)\n",
        "\n",
        "# By using preprocessing.labelenconder we can transform a particular column into categorical numbers ex. (0,1) because our  \n",
        "# machine learning model only accepts numbers"
      ],
      "execution_count": 0,
      "outputs": []
    },
    {
      "metadata": {
        "colab_type": "code",
        "id": "UCd7K8v6UlS0",
        "outputId": "adfc97ac-07c2-4d41-c3f0-52554d895fd3",
        "colab": {
          "base_uri": "https://localhost:8080/",
          "height": 225
        }
      },
      "cell_type": "code",
      "source": [
        "df_1.head()"
      ],
      "execution_count": 0,
      "outputs": [
        {
          "output_type": "execute_result",
          "data": {
            "text/html": [
              "<div>\n",
              "<style scoped>\n",
              "    .dataframe tbody tr th:only-of-type {\n",
              "        vertical-align: middle;\n",
              "    }\n",
              "\n",
              "    .dataframe tbody tr th {\n",
              "        vertical-align: top;\n",
              "    }\n",
              "\n",
              "    .dataframe thead th {\n",
              "        text-align: right;\n",
              "    }\n",
              "</style>\n",
              "<table border=\"1\" class=\"dataframe\">\n",
              "  <thead>\n",
              "    <tr style=\"text-align: right;\">\n",
              "      <th></th>\n",
              "      <th>tier</th>\n",
              "      <th>claim_type</th>\n",
              "      <th>count_npi</th>\n",
              "      <th>count</th>\n",
              "    </tr>\n",
              "  </thead>\n",
              "  <tbody>\n",
              "    <tr>\n",
              "      <th>0</th>\n",
              "      <td>1</td>\n",
              "      <td>0</td>\n",
              "      <td>1</td>\n",
              "      <td>1</td>\n",
              "    </tr>\n",
              "    <tr>\n",
              "      <th>1</th>\n",
              "      <td>1</td>\n",
              "      <td>1</td>\n",
              "      <td>1</td>\n",
              "      <td>2</td>\n",
              "    </tr>\n",
              "    <tr>\n",
              "      <th>2</th>\n",
              "      <td>1</td>\n",
              "      <td>0</td>\n",
              "      <td>1</td>\n",
              "      <td>1</td>\n",
              "    </tr>\n",
              "    <tr>\n",
              "      <th>3</th>\n",
              "      <td>1</td>\n",
              "      <td>1</td>\n",
              "      <td>1</td>\n",
              "      <td>2</td>\n",
              "    </tr>\n",
              "    <tr>\n",
              "      <th>4</th>\n",
              "      <td>1</td>\n",
              "      <td>1</td>\n",
              "      <td>1</td>\n",
              "      <td>1</td>\n",
              "    </tr>\n",
              "  </tbody>\n",
              "</table>\n",
              "</div>"
            ],
            "text/plain": [
              "   tier  claim_type count_npi count\n",
              "0     1           0         1     1\n",
              "1     1           1         1     2\n",
              "2     1           0         1     1\n",
              "3     1           1         1     2\n",
              "4     1           1         1     1"
            ]
          },
          "metadata": {
            "tags": []
          },
          "execution_count": 17
        }
      ]
    },
    {
      "metadata": {
        "colab_type": "code",
        "id": "mFQWVbU0ktxn",
        "outputId": "d966ddf6-9ade-4e04-8e8f-083e0de707ef",
        "colab": {}
      },
      "cell_type": "code",
      "source": [
        "df_1.info()"
      ],
      "execution_count": 0,
      "outputs": [
        {
          "output_type": "stream",
          "text": [
            "<class 'pandas.core.frame.DataFrame'>\n",
            "RangeIndex: 975133 entries, 0 to 975132\n",
            "Data columns (total 4 columns):\n",
            "tier          975133 non-null int32\n",
            "claim_type    975133 non-null int32\n",
            "count_npi     975133 non-null object\n",
            "count         975133 non-null object\n",
            "dtypes: int32(2), object(2)\n",
            "memory usage: 22.3+ MB\n"
          ],
          "name": "stdout"
        }
      ]
    },
    {
      "metadata": {
        "colab_type": "code",
        "id": "aXUJ2UFWktxq",
        "colab": {}
      },
      "cell_type": "code",
      "source": [
        "df_1[\"count\"] = pd.to_numeric(df_1[\"count\"])\n",
        "df_1[\"count_npi\"] = pd.to_numeric(df_1[\"count\"])\n",
        "\n",
        "# Since our count and count_npi columns have numbers it is best to leave them as intergers instead of categorical"
      ],
      "execution_count": 0,
      "outputs": []
    },
    {
      "metadata": {
        "colab_type": "code",
        "id": "YodIfHpCUp2Q",
        "outputId": "1215b912-5124-44dd-d263-ad7988fafab8",
        "colab": {}
      },
      "cell_type": "code",
      "source": [
        "df_1.tier.value_counts()"
      ],
      "execution_count": 0,
      "outputs": [
        {
          "output_type": "execute_result",
          "data": {
            "text/plain": [
              "1    941419\n",
              "0     33714\n",
              "Name: tier, dtype: int64"
            ]
          },
          "metadata": {
            "tags": []
          },
          "execution_count": 20
        }
      ]
    },
    {
      "metadata": {
        "colab_type": "code",
        "id": "evMdgNfYU35O",
        "colab": {}
      },
      "cell_type": "code",
      "source": [
        "# There is huge class imbalance, but first we can check the AUROC score to see how well the model can distinguish\n",
        "# classes in the imbalance data set"
      ],
      "execution_count": 0,
      "outputs": []
    },
    {
      "metadata": {
        "colab_type": "code",
        "id": "4_HGaL1Tktxx",
        "colab": {}
      },
      "cell_type": "code",
      "source": [
        "X_tier = df_1.drop([\"tier\"] , axis = 1)\n",
        "y_tier = df_1[\"tier\"]\n",
        "\n",
        "X_train, X_val, y_train, y_val = train_test_split(X_tier, y_tier, test_size = 0.3, random_state=42)"
      ],
      "execution_count": 0,
      "outputs": []
    },
    {
      "metadata": {
        "colab_type": "code",
        "id": "rDBj4SGUktxz",
        "outputId": "1ad8cad8-a6c5-4fc2-ed1c-a24d14a67996",
        "colab": {}
      },
      "cell_type": "code",
      "source": [
        "logreg = LogisticRegression()\n",
        "logreg.fit(X_train , y_train)\n",
        "y_pred = logreg.predict(X_val)\n",
        "\n",
        "print(classification_report(y_val , y_pred))\n",
        "print(\"Accuracy of model is\", accuracy_score(y_val , y_pred)*100,\"%\")\n",
        "print(\"AUROC score is:\", roc_auc_score(y_val, y_pred) )\n",
        "print(\"This is the category the model is predicting:\",np.unique(y_pred))\n",
        "\n",
        "# Our model can only distinguish classes 50% of the time which is not ideal, so let's balance the dataset"
      ],
      "execution_count": 0,
      "outputs": [
        {
          "output_type": "stream",
          "text": [
            "              precision    recall  f1-score   support\n",
            "\n",
            "           0       0.11      0.00      0.01     10153\n",
            "           1       0.97      1.00      0.98    282387\n",
            "\n",
            "   micro avg       0.96      0.96      0.96    292540\n",
            "   macro avg       0.54      0.50      0.49    292540\n",
            "weighted avg       0.94      0.96      0.95    292540\n",
            "\n",
            "Accuracy of model is 96.46475695631366 %\n",
            "AUROC score is: 0.5009472023927313\n",
            "This is the category the model is predicting: [0 1]\n"
          ],
          "name": "stdout"
        }
      ]
    },
    {
      "metadata": {
        "id": "Lli0oYdx8n8v",
        "colab_type": "code",
        "colab": {}
      },
      "cell_type": "code",
      "source": [
        "# the huge difference mirrors the imbalance in the classes in tier\n",
        "# we will make the classes more balanced by upsampling class with minority "
      ],
      "execution_count": 0,
      "outputs": []
    },
    {
      "metadata": {
        "colab_type": "code",
        "id": "v9F9RJkwktx2",
        "outputId": "499e3a19-3c44-4d3f-adca-59beb9f50bde",
        "colab": {}
      },
      "cell_type": "code",
      "source": [
        "# Separate majority and minority classes\n",
        "df_majority = df_1[df_1.tier==1]\n",
        "df_minority = df_1[df_1.tier==0]\n",
        " \n",
        "# Upsample minority class\n",
        "df_minority_upsampled = resample(df_minority, \n",
        "                                 replace=True,     # sample with replacement\n",
        "                                 n_samples=len(df_1.tier[df_1.tier == 1]),    # to match majority class\n",
        "                                 random_state=123) # reproducible results\n",
        " \n",
        "# Combine majority class with upsampled minority class\n",
        "df_upsampled = pd.concat([df_majority, df_minority_upsampled])\n",
        " \n",
        "# Display new class counts\n",
        "df_upsampled.tier.value_counts()"
      ],
      "execution_count": 0,
      "outputs": [
        {
          "output_type": "execute_result",
          "data": {
            "text/plain": [
              "1    941419\n",
              "0    941419\n",
              "Name: tier, dtype: int64"
            ]
          },
          "metadata": {
            "tags": []
          },
          "execution_count": 25
        }
      ]
    },
    {
      "metadata": {
        "colab_type": "code",
        "id": "rfJIHl1mktx6",
        "colab": {}
      },
      "cell_type": "code",
      "source": [
        "# Now that we balanced it we can do our final machine learning to get an ideal model\n",
        "\n",
        "X_tier = df_upsampled.drop([\"tier\"] , axis = 1)\n",
        "y_tier = df_upsampled[\"tier\"]\n",
        "\n",
        "X_train, X_val, y_train, y_val = train_test_split(X_tier, y_tier, test_size = 0.3, random_state=42)"
      ],
      "execution_count": 0,
      "outputs": []
    },
    {
      "metadata": {
        "colab_type": "code",
        "id": "LJPVjm16ktx8",
        "outputId": "103d66fc-db15-4cfd-b182-9725308013f1",
        "colab": {}
      },
      "cell_type": "code",
      "source": [
        "logreg = LogisticRegression()\n",
        "logreg.fit(X_train , y_train)\n",
        "y_pred = logreg.predict(X_val)\n",
        "\n",
        "print(\"Accuracy of our model is: \",round(accuracy_score(y_val , y_pred)*100,2),\"%\")\n",
        "print(\"AUROC score is: \", roc_auc_score(y_val, y_pred) )\n",
        "print(\"This is the category the model is predicting:\", np.unique(y_pred))"
      ],
      "execution_count": 0,
      "outputs": [
        {
          "output_type": "stream",
          "text": [
            "Accuracy of our model is:  93.66 %\n",
            "AUROC score is:  0.9366091164135117\n",
            "This is the category the model is predicting: [0 1]\n"
          ],
          "name": "stdout"
        }
      ]
    },
    {
      "metadata": {
        "colab_type": "code",
        "id": "1YXSZF4_ktx_",
        "colab": {}
      },
      "cell_type": "code",
      "source": [
        "# Logistic accuracy and AUCROC score are same. That means our model should not be affected by the imbalance nature of dataset\n",
        "# let's build xgboost model"
      ],
      "execution_count": 0,
      "outputs": []
    },
    {
      "metadata": {
        "colab_type": "code",
        "id": "P5ldGdMsktyB",
        "outputId": "ece783bf-d804-4628-dd3e-4ee31775d7d8",
        "colab": {}
      },
      "cell_type": "code",
      "source": [
        "xg = xgboost.XGBClassifier(objective = 'reg:logistic', n_estimators = 2, seed=1234)\n",
        "xg.fit(X_train, y_train)\n",
        "\n",
        "y_pred_XGB = xg.predict(X_val)\n",
        "\n",
        "print(\"XgBoost Accuracy is:\", round(accuracy_score(y_val, y_pred_XGB)*100,2) , \"%\")\n",
        "print(\"This is the category the model is predicting:\", np.unique(y_pred_XGB))"
      ],
      "execution_count": 0,
      "outputs": [
        {
          "output_type": "stream",
          "text": [
            "XgBoost Accuracy is: 93.66 %\n",
            "This is the category the model is predicting: [0 1]\n"
          ],
          "name": "stdout"
        }
      ]
    },
    {
      "metadata": {
        "colab_type": "code",
        "id": "tagwgi0LktyC",
        "colab": {}
      },
      "cell_type": "code",
      "source": [
        "# We can see we ran two models and got roughly the same accuracy and the AUROC score\n",
        "# 93% is fairly good when creating machine learning models"
      ],
      "execution_count": 0,
      "outputs": []
    },
    {
      "metadata": {
        "colab_type": "code",
        "id": "PTnsU5XDktyD",
        "colab": {}
      },
      "cell_type": "code",
      "source": [
        "# Now we are going to create a function that can shoot a prediction (Preferred or non-preferred)\n",
        "# When placing the data in the model"
      ],
      "execution_count": 0,
      "outputs": []
    },
    {
      "metadata": {
        "colab_type": "code",
        "id": "4sUbAiy7ktyK",
        "colab": {}
      },
      "cell_type": "code",
      "source": [
        "def prediction(df_input):\n",
        "    #df_input = df_original.head(1).copy()\n",
        "\n",
        "    if len(re.findall(str(df_input.id[0]), str(df.id))) > 0:\n",
        "        df_input['count'] = (len(re.findall(str(df_input.id[0]), str(df.id)))+ 1)\n",
        "    else:\n",
        "        df_input['count'] = 1\n",
        "\n",
        "    if len(re.findall(str(df_input.npi_temp[0]), str(df.npi_temp))) > 0:\n",
        "        df_input['count_npi'] = (len(re.findall(str(df_input.npi_temp[0]), str(df.npi_temp)))+ 1) \n",
        "    else:\n",
        "        df_input['count_npi'] = 1\n",
        "\n",
        "    df_input.drop(['DATE_SEQ', 'id', 'npi_temp'], axis = 1, inplace = True)\n",
        "\n",
        "    df_input.claim_type = le.transform(df_input.claim_type)\n",
        "\n",
        "    y_pred = xg.predict(df_input[['claim_type', 'count_npi', 'count']])\n",
        "\n",
        "    return pd.DataFrame(le_tier.inverse_transform(y_pred))\n",
        "\n",
        "# This function gives us a prediction on a single row of data."
      ],
      "execution_count": 0,
      "outputs": []
    },
    {
      "metadata": {
        "id": "7RCyuIkR8n9F",
        "colab_type": "code",
        "colab": {}
      },
      "cell_type": "code",
      "source": [
        "# creating new row by randomly replacing values in our data "
      ],
      "execution_count": 0,
      "outputs": []
    },
    {
      "metadata": {
        "colab_type": "code",
        "id": "zpky0kx0ktyN",
        "outputId": "970b8a3e-56ca-49a9-a287-ef9c16af7d3c",
        "colab": {}
      },
      "cell_type": "code",
      "source": [
        "my_input = df_original.head(1).copy()\n",
        "my_input.id[0] = 218285130\n",
        "my_input.npi_temp[0] = 'Z3260K6K67'\n",
        "my_input"
      ],
      "execution_count": 0,
      "outputs": [
        {
          "output_type": "execute_result",
          "data": {
            "text/html": [
              "<div>\n",
              "<style scoped>\n",
              "    .dataframe tbody tr th:only-of-type {\n",
              "        vertical-align: middle;\n",
              "    }\n",
              "\n",
              "    .dataframe tbody tr th {\n",
              "        vertical-align: top;\n",
              "    }\n",
              "\n",
              "    .dataframe thead th {\n",
              "        text-align: right;\n",
              "    }\n",
              "</style>\n",
              "<table border=\"1\" class=\"dataframe\">\n",
              "  <thead>\n",
              "    <tr style=\"text-align: right;\">\n",
              "      <th></th>\n",
              "      <th>DATE_SEQ</th>\n",
              "      <th>id</th>\n",
              "      <th>tier</th>\n",
              "      <th>claim_type</th>\n",
              "      <th>npi_temp</th>\n",
              "    </tr>\n",
              "  </thead>\n",
              "  <tbody>\n",
              "    <tr>\n",
              "      <th>0</th>\n",
              "      <td>1</td>\n",
              "      <td>218285130</td>\n",
              "      <td>Preferred</td>\n",
              "      <td>Facility</td>\n",
              "      <td>Z3260K6K67</td>\n",
              "    </tr>\n",
              "  </tbody>\n",
              "</table>\n",
              "</div>"
            ],
            "text/plain": [
              "   DATE_SEQ         id       tier claim_type    npi_temp\n",
              "0         1  218285130  Preferred   Facility  Z3260K6K67"
            ]
          },
          "metadata": {
            "tags": []
          },
          "execution_count": 34
        }
      ]
    },
    {
      "metadata": {
        "colab_type": "code",
        "id": "34fu_wpPktyP",
        "outputId": "73630d48-001d-4978-993c-f87a39f197a8",
        "colab": {}
      },
      "cell_type": "code",
      "source": [
        "prediction(my_input)\n",
        "\n",
        "# I created bogus id and npi numbers to test we can get prediction on some unknown data"
      ],
      "execution_count": 0,
      "outputs": [
        {
          "output_type": "execute_result",
          "data": {
            "text/html": [
              "<div>\n",
              "<style scoped>\n",
              "    .dataframe tbody tr th:only-of-type {\n",
              "        vertical-align: middle;\n",
              "    }\n",
              "\n",
              "    .dataframe tbody tr th {\n",
              "        vertical-align: top;\n",
              "    }\n",
              "\n",
              "    .dataframe thead th {\n",
              "        text-align: right;\n",
              "    }\n",
              "</style>\n",
              "<table border=\"1\" class=\"dataframe\">\n",
              "  <thead>\n",
              "    <tr style=\"text-align: right;\">\n",
              "      <th></th>\n",
              "      <th>0</th>\n",
              "    </tr>\n",
              "  </thead>\n",
              "  <tbody>\n",
              "    <tr>\n",
              "      <th>0</th>\n",
              "      <td>Non-Preferred</td>\n",
              "    </tr>\n",
              "  </tbody>\n",
              "</table>\n",
              "</div>"
            ],
            "text/plain": [
              "               0\n",
              "0  Non-Preferred"
            ]
          },
          "metadata": {
            "tags": []
          },
          "execution_count": 35
        }
      ]
    },
    {
      "metadata": {
        "colab_type": "code",
        "id": "rL_IVvarktyS",
        "outputId": "c909bd8b-9a10-40ca-ed93-cb928cb019e8",
        "colab": {}
      },
      "cell_type": "code",
      "source": [
        "# looking for predictions on the given data\n",
        "for i in range(5):\n",
        "    print(prediction(df.iloc[i:i+1].reset_index()))"
      ],
      "execution_count": 0,
      "outputs": [
        {
          "output_type": "stream",
          "text": [
            "               0\n",
            "0  Non-Preferred\n",
            "           0\n",
            "0  Preferred\n",
            "               0\n",
            "0  Non-Preferred\n",
            "           0\n",
            "0  Preferred\n",
            "           0\n",
            "0  Preferred\n"
          ],
          "name": "stdout"
        }
      ]
    }
  ]
}